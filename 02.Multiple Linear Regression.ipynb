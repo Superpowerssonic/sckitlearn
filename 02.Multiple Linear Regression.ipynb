{
 "cells": [
  {
   "cell_type": "markdown",
   "id": "f29bfe12",
   "metadata": {},
   "source": [
    "# 2. Multiple Linear Regression"
   ]
  },
  {
   "cell_type": "code",
   "execution_count": null,
   "id": "9a4ec2c0",
   "metadata": {},
   "outputs": [],
   "source": [
    "#y = mx + b 선형회귀 simple Linear Regression\n",
    "#y = b + m1x2 + m2x2 ........ Multiple Linear Regression\n",
    "# 독립변수가 1개 -> 2차원\n",
    "# 독립변수가 2개 -> 3차원\n",
    "# 독립변수 2개 이상 시 3차원 초과"
   ]
  },
  {
   "cell_type": "code",
   "execution_count": null,
   "id": "0efdfc55",
   "metadata": {},
   "outputs": [],
   "source": [
    "# # one-hot Encoding\n",
    "# 자료가 숫자가 아닌 문자일때 -> one hot encoding -> 내가 원하는건 1로 표시 아닌건 0으로 표시하게끔 \n",
    "# -> 더미컬럼 추가 "
   ]
  },
  {
   "cell_type": "code",
   "execution_count": null,
   "id": "e10e9706",
   "metadata": {},
   "outputs": [],
   "source": [
    "# 다중공성선\n",
    "# 독립변수들간에 서로 강한 상관관계를 가지면서 회귀계수 추정의 오류가 나타나는 문제\n",
    "# 하나의 피처가 다른 피처에 영향을 미침 -> 독립변수가 독립적이어야 하는데 그렇지 못 한 상태\n",
    "# D1+D2+D3 = 1 100 / 010 / 001\n",
    "# D3 = 1-(D1+D2) -> 상관관계가 높다는 의미임 -> 해결해야함 -> 더미 컬럼 중 하나 삭제해야함 -> D1,D2 유지 D3 제외\n",
    "# DUMMY COLUMN이 N 개면 N-1 개만 사용 = DUMMY VARIABLE TRAP\n"
   ]
  },
  {
   "cell_type": "markdown",
   "id": "b5248095",
   "metadata": {},
   "source": [
    "## One-hot Encoding"
   ]
  },
  {
   "cell_type": "code",
   "execution_count": 1,
   "id": "69171e45",
   "metadata": {},
   "outputs": [],
   "source": [
    "import matplotlib.pyplot as plt\n",
    "import pandas as pd"
   ]
  },
  {
   "cell_type": "code",
   "execution_count": 2,
   "id": "09184c0c",
   "metadata": {},
   "outputs": [],
   "source": [
    "dataset = pd.read_csv('MultipleLinearRegressionData.csv')\n",
    "X = dataset.iloc[:,:-1]\n",
    "y = dataset.iloc[:,-1]"
   ]
  },
  {
   "cell_type": "code",
   "execution_count": 10,
   "id": "4118cd8e",
   "metadata": {},
   "outputs": [
    {
     "data": {
      "text/html": [
       "<div>\n",
       "<style scoped>\n",
       "    .dataframe tbody tr th:only-of-type {\n",
       "        vertical-align: middle;\n",
       "    }\n",
       "\n",
       "    .dataframe tbody tr th {\n",
       "        vertical-align: top;\n",
       "    }\n",
       "\n",
       "    .dataframe thead th {\n",
       "        text-align: right;\n",
       "    }\n",
       "</style>\n",
       "<table border=\"1\" class=\"dataframe\">\n",
       "  <thead>\n",
       "    <tr style=\"text-align: right;\">\n",
       "      <th></th>\n",
       "      <th>hour</th>\n",
       "      <th>absent</th>\n",
       "      <th>place</th>\n",
       "    </tr>\n",
       "  </thead>\n",
       "  <tbody>\n",
       "    <tr>\n",
       "      <th>0</th>\n",
       "      <td>0.5</td>\n",
       "      <td>3</td>\n",
       "      <td>Home</td>\n",
       "    </tr>\n",
       "    <tr>\n",
       "      <th>1</th>\n",
       "      <td>1.2</td>\n",
       "      <td>4</td>\n",
       "      <td>Library</td>\n",
       "    </tr>\n",
       "    <tr>\n",
       "      <th>2</th>\n",
       "      <td>1.8</td>\n",
       "      <td>2</td>\n",
       "      <td>Cafe</td>\n",
       "    </tr>\n",
       "    <tr>\n",
       "      <th>3</th>\n",
       "      <td>2.4</td>\n",
       "      <td>0</td>\n",
       "      <td>Cafe</td>\n",
       "    </tr>\n",
       "    <tr>\n",
       "      <th>4</th>\n",
       "      <td>2.6</td>\n",
       "      <td>2</td>\n",
       "      <td>Home</td>\n",
       "    </tr>\n",
       "    <tr>\n",
       "      <th>5</th>\n",
       "      <td>3.2</td>\n",
       "      <td>0</td>\n",
       "      <td>Home</td>\n",
       "    </tr>\n",
       "    <tr>\n",
       "      <th>6</th>\n",
       "      <td>3.9</td>\n",
       "      <td>0</td>\n",
       "      <td>Library</td>\n",
       "    </tr>\n",
       "    <tr>\n",
       "      <th>7</th>\n",
       "      <td>4.4</td>\n",
       "      <td>0</td>\n",
       "      <td>Library</td>\n",
       "    </tr>\n",
       "    <tr>\n",
       "      <th>8</th>\n",
       "      <td>4.5</td>\n",
       "      <td>5</td>\n",
       "      <td>Home</td>\n",
       "    </tr>\n",
       "    <tr>\n",
       "      <th>9</th>\n",
       "      <td>5.0</td>\n",
       "      <td>1</td>\n",
       "      <td>Cafe</td>\n",
       "    </tr>\n",
       "    <tr>\n",
       "      <th>10</th>\n",
       "      <td>5.3</td>\n",
       "      <td>2</td>\n",
       "      <td>Cafe</td>\n",
       "    </tr>\n",
       "    <tr>\n",
       "      <th>11</th>\n",
       "      <td>5.8</td>\n",
       "      <td>0</td>\n",
       "      <td>Cafe</td>\n",
       "    </tr>\n",
       "    <tr>\n",
       "      <th>12</th>\n",
       "      <td>6.0</td>\n",
       "      <td>3</td>\n",
       "      <td>Library</td>\n",
       "    </tr>\n",
       "    <tr>\n",
       "      <th>13</th>\n",
       "      <td>6.1</td>\n",
       "      <td>1</td>\n",
       "      <td>Cafe</td>\n",
       "    </tr>\n",
       "    <tr>\n",
       "      <th>14</th>\n",
       "      <td>6.2</td>\n",
       "      <td>1</td>\n",
       "      <td>Library</td>\n",
       "    </tr>\n",
       "    <tr>\n",
       "      <th>15</th>\n",
       "      <td>6.9</td>\n",
       "      <td>4</td>\n",
       "      <td>Home</td>\n",
       "    </tr>\n",
       "    <tr>\n",
       "      <th>16</th>\n",
       "      <td>7.2</td>\n",
       "      <td>2</td>\n",
       "      <td>Cafe</td>\n",
       "    </tr>\n",
       "    <tr>\n",
       "      <th>17</th>\n",
       "      <td>8.4</td>\n",
       "      <td>1</td>\n",
       "      <td>Home</td>\n",
       "    </tr>\n",
       "    <tr>\n",
       "      <th>18</th>\n",
       "      <td>8.6</td>\n",
       "      <td>1</td>\n",
       "      <td>Library</td>\n",
       "    </tr>\n",
       "    <tr>\n",
       "      <th>19</th>\n",
       "      <td>10.0</td>\n",
       "      <td>0</td>\n",
       "      <td>Library</td>\n",
       "    </tr>\n",
       "  </tbody>\n",
       "</table>\n",
       "</div>"
      ],
      "text/plain": [
       "    hour  absent    place\n",
       "0    0.5       3     Home\n",
       "1    1.2       4  Library\n",
       "2    1.8       2     Cafe\n",
       "3    2.4       0     Cafe\n",
       "4    2.6       2     Home\n",
       "5    3.2       0     Home\n",
       "6    3.9       0  Library\n",
       "7    4.4       0  Library\n",
       "8    4.5       5     Home\n",
       "9    5.0       1     Cafe\n",
       "10   5.3       2     Cafe\n",
       "11   5.8       0     Cafe\n",
       "12   6.0       3  Library\n",
       "13   6.1       1     Cafe\n",
       "14   6.2       1  Library\n",
       "15   6.9       4     Home\n",
       "16   7.2       2     Cafe\n",
       "17   8.4       1     Home\n",
       "18   8.6       1  Library\n",
       "19  10.0       0  Library"
      ]
     },
     "execution_count": 10,
     "metadata": {},
     "output_type": "execute_result"
    }
   ],
   "source": [
    "X"
   ]
  },
  {
   "cell_type": "code",
   "execution_count": 11,
   "id": "a4d131fb",
   "metadata": {
    "scrolled": true
   },
   "outputs": [
    {
     "data": {
      "text/plain": [
       "array([[ 1. ,  0. ,  0.5,  3. ],\n",
       "       [ 0. ,  1. ,  1.2,  4. ],\n",
       "       [ 0. ,  0. ,  1.8,  2. ],\n",
       "       [ 0. ,  0. ,  2.4,  0. ],\n",
       "       [ 1. ,  0. ,  2.6,  2. ],\n",
       "       [ 1. ,  0. ,  3.2,  0. ],\n",
       "       [ 0. ,  1. ,  3.9,  0. ],\n",
       "       [ 0. ,  1. ,  4.4,  0. ],\n",
       "       [ 1. ,  0. ,  4.5,  5. ],\n",
       "       [ 0. ,  0. ,  5. ,  1. ],\n",
       "       [ 0. ,  0. ,  5.3,  2. ],\n",
       "       [ 0. ,  0. ,  5.8,  0. ],\n",
       "       [ 0. ,  1. ,  6. ,  3. ],\n",
       "       [ 0. ,  0. ,  6.1,  1. ],\n",
       "       [ 0. ,  1. ,  6.2,  1. ],\n",
       "       [ 1. ,  0. ,  6.9,  4. ],\n",
       "       [ 0. ,  0. ,  7.2,  2. ],\n",
       "       [ 1. ,  0. ,  8.4,  1. ],\n",
       "       [ 0. ,  1. ,  8.6,  1. ],\n",
       "       [ 0. ,  1. , 10. ,  0. ]])"
      ]
     },
     "execution_count": 11,
     "metadata": {},
     "output_type": "execute_result"
    }
   ],
   "source": [
    "from sklearn.compose import ColumnTransformer\n",
    "from sklearn.preprocessing import OneHotEncoder\n",
    "ct = ColumnTransformer(transformers=[('encoder', OneHotEncoder(drop='first'), [2])], remainder='passthrough')#다중 공성선 문제 해결\n",
    "X = ct.fit_transform(X)\n",
    "X\n",
    "# 1,0 HOME\n",
    "# 0,1 LIBRARY\n",
    "# 0,0 CAFE"
   ]
  },
  {
   "cell_type": "markdown",
   "id": "452798a3",
   "metadata": {},
   "source": [
    "### 데이터 세트 분리"
   ]
  },
  {
   "cell_type": "code",
   "execution_count": 12,
   "id": "f4abf15c",
   "metadata": {},
   "outputs": [],
   "source": [
    "from sklearn.model_selection import train_test_split\n",
    "X_train, X_test, y_train, y_test = train_test_split(X,y,test_size=0.2,random_state=0)"
   ]
  },
  {
   "cell_type": "markdown",
   "id": "fddcbbe4",
   "metadata": {},
   "source": [
    "### 학습(다중 선형 회귀)"
   ]
  },
  {
   "cell_type": "code",
   "execution_count": 13,
   "id": "fbb55e02",
   "metadata": {},
   "outputs": [
    {
     "data": {
      "text/html": [
       "<style>#sk-container-id-1 {color: black;background-color: white;}#sk-container-id-1 pre{padding: 0;}#sk-container-id-1 div.sk-toggleable {background-color: white;}#sk-container-id-1 label.sk-toggleable__label {cursor: pointer;display: block;width: 100%;margin-bottom: 0;padding: 0.3em;box-sizing: border-box;text-align: center;}#sk-container-id-1 label.sk-toggleable__label-arrow:before {content: \"▸\";float: left;margin-right: 0.25em;color: #696969;}#sk-container-id-1 label.sk-toggleable__label-arrow:hover:before {color: black;}#sk-container-id-1 div.sk-estimator:hover label.sk-toggleable__label-arrow:before {color: black;}#sk-container-id-1 div.sk-toggleable__content {max-height: 0;max-width: 0;overflow: hidden;text-align: left;background-color: #f0f8ff;}#sk-container-id-1 div.sk-toggleable__content pre {margin: 0.2em;color: black;border-radius: 0.25em;background-color: #f0f8ff;}#sk-container-id-1 input.sk-toggleable__control:checked~div.sk-toggleable__content {max-height: 200px;max-width: 100%;overflow: auto;}#sk-container-id-1 input.sk-toggleable__control:checked~label.sk-toggleable__label-arrow:before {content: \"▾\";}#sk-container-id-1 div.sk-estimator input.sk-toggleable__control:checked~label.sk-toggleable__label {background-color: #d4ebff;}#sk-container-id-1 div.sk-label input.sk-toggleable__control:checked~label.sk-toggleable__label {background-color: #d4ebff;}#sk-container-id-1 input.sk-hidden--visually {border: 0;clip: rect(1px 1px 1px 1px);clip: rect(1px, 1px, 1px, 1px);height: 1px;margin: -1px;overflow: hidden;padding: 0;position: absolute;width: 1px;}#sk-container-id-1 div.sk-estimator {font-family: monospace;background-color: #f0f8ff;border: 1px dotted black;border-radius: 0.25em;box-sizing: border-box;margin-bottom: 0.5em;}#sk-container-id-1 div.sk-estimator:hover {background-color: #d4ebff;}#sk-container-id-1 div.sk-parallel-item::after {content: \"\";width: 100%;border-bottom: 1px solid gray;flex-grow: 1;}#sk-container-id-1 div.sk-label:hover label.sk-toggleable__label {background-color: #d4ebff;}#sk-container-id-1 div.sk-serial::before {content: \"\";position: absolute;border-left: 1px solid gray;box-sizing: border-box;top: 0;bottom: 0;left: 50%;z-index: 0;}#sk-container-id-1 div.sk-serial {display: flex;flex-direction: column;align-items: center;background-color: white;padding-right: 0.2em;padding-left: 0.2em;position: relative;}#sk-container-id-1 div.sk-item {position: relative;z-index: 1;}#sk-container-id-1 div.sk-parallel {display: flex;align-items: stretch;justify-content: center;background-color: white;position: relative;}#sk-container-id-1 div.sk-item::before, #sk-container-id-1 div.sk-parallel-item::before {content: \"\";position: absolute;border-left: 1px solid gray;box-sizing: border-box;top: 0;bottom: 0;left: 50%;z-index: -1;}#sk-container-id-1 div.sk-parallel-item {display: flex;flex-direction: column;z-index: 1;position: relative;background-color: white;}#sk-container-id-1 div.sk-parallel-item:first-child::after {align-self: flex-end;width: 50%;}#sk-container-id-1 div.sk-parallel-item:last-child::after {align-self: flex-start;width: 50%;}#sk-container-id-1 div.sk-parallel-item:only-child::after {width: 0;}#sk-container-id-1 div.sk-dashed-wrapped {border: 1px dashed gray;margin: 0 0.4em 0.5em 0.4em;box-sizing: border-box;padding-bottom: 0.4em;background-color: white;}#sk-container-id-1 div.sk-label label {font-family: monospace;font-weight: bold;display: inline-block;line-height: 1.2em;}#sk-container-id-1 div.sk-label-container {text-align: center;}#sk-container-id-1 div.sk-container {/* jupyter's `normalize.less` sets `[hidden] { display: none; }` but bootstrap.min.css set `[hidden] { display: none !important; }` so we also need the `!important` here to be able to override the default hidden behavior on the sphinx rendered scikit-learn.org. See: https://github.com/scikit-learn/scikit-learn/issues/21755 */display: inline-block !important;position: relative;}#sk-container-id-1 div.sk-text-repr-fallback {display: none;}</style><div id=\"sk-container-id-1\" class=\"sk-top-container\"><div class=\"sk-text-repr-fallback\"><pre>LinearRegression()</pre><b>In a Jupyter environment, please rerun this cell to show the HTML representation or trust the notebook. <br />On GitHub, the HTML representation is unable to render, please try loading this page with nbviewer.org.</b></div><div class=\"sk-container\" hidden><div class=\"sk-item\"><div class=\"sk-estimator sk-toggleable\"><input class=\"sk-toggleable__control sk-hidden--visually\" id=\"sk-estimator-id-1\" type=\"checkbox\" checked><label for=\"sk-estimator-id-1\" class=\"sk-toggleable__label sk-toggleable__label-arrow\">LinearRegression</label><div class=\"sk-toggleable__content\"><pre>LinearRegression()</pre></div></div></div></div></div>"
      ],
      "text/plain": [
       "LinearRegression()"
      ]
     },
     "execution_count": 13,
     "metadata": {},
     "output_type": "execute_result"
    }
   ],
   "source": [
    "from sklearn.linear_model import LinearRegression\n",
    "reg = LinearRegression()\n",
    "reg.fit(X_train,y_train)  # 훈련 세트로 훈련 시킴"
   ]
  },
  {
   "cell_type": "markdown",
   "id": "ce651207",
   "metadata": {},
   "source": [
    "### 예측 값과 실제 값 비교(테스트 세트)"
   ]
  },
  {
   "cell_type": "code",
   "execution_count": 14,
   "id": "644efb03",
   "metadata": {},
   "outputs": [
    {
     "data": {
      "text/plain": [
       "array([ 92.15457859,  10.23753043, 108.36245302,  38.14675204])"
      ]
     },
     "execution_count": 14,
     "metadata": {},
     "output_type": "execute_result"
    }
   ],
   "source": [
    "y_pred = reg.predict(X_test)  # 훈련세트로훈련시키고 나머지는 테스트임 X_test 는 test 값임 -> 테스트로 y_pred를 테스트해봄 \n",
    "y_pred  # y_pred 는 X_train과 y_train을 통해서 훈련된 선형모델에 대해서 X_test 값을 집어넣어서 y_pred를 테스트해본 결과임"
   ]
  },
  {
   "cell_type": "code",
   "execution_count": 16,
   "id": "aa169a34",
   "metadata": {},
   "outputs": [
    {
     "data": {
      "text/plain": [
       "18     90\n",
       "1       8\n",
       "19    100\n",
       "8      38\n",
       "Name: score, dtype: int64"
      ]
     },
     "execution_count": 16,
     "metadata": {},
     "output_type": "execute_result"
    }
   ],
   "source": [
    "y_test"
   ]
  },
  {
   "cell_type": "code",
   "execution_count": 17,
   "id": "796d59ba",
   "metadata": {},
   "outputs": [
    {
     "data": {
      "text/plain": [
       "array([-5.82712824, -1.04450647, 10.40419528, -1.64200104])"
      ]
     },
     "execution_count": 17,
     "metadata": {},
     "output_type": "execute_result"
    }
   ],
   "source": [
    "reg.coef_   # coef_ 독립변수에 대한 각각 계수정보"
   ]
  },
  {
   "cell_type": "code",
   "execution_count": 18,
   "id": "a0476cf7",
   "metadata": {},
   "outputs": [
    {
     "data": {
      "text/plain": [
       "5.365006706544747"
      ]
     },
     "execution_count": 18,
     "metadata": {},
     "output_type": "execute_result"
    }
   ],
   "source": [
    "reg.intercept_"
   ]
  },
  {
   "cell_type": "markdown",
   "id": "6a3e6e86",
   "metadata": {},
   "source": [
    "### 모델 평가"
   ]
  },
  {
   "cell_type": "code",
   "execution_count": 19,
   "id": "0087f5f8",
   "metadata": {},
   "outputs": [
    {
     "data": {
      "text/plain": [
       "0.9623352565265527"
      ]
     },
     "execution_count": 19,
     "metadata": {},
     "output_type": "execute_result"
    }
   ],
   "source": [
    "reg.score(X_train, y_train) # 훈련 세트"
   ]
  },
  {
   "cell_type": "code",
   "execution_count": 20,
   "id": "724056b3",
   "metadata": {},
   "outputs": [
    {
     "data": {
      "text/plain": [
       "0.9859956178877445"
      ]
     },
     "execution_count": 20,
     "metadata": {},
     "output_type": "execute_result"
    }
   ],
   "source": [
    "reg.score(X_test, y_test) # 테스트 세트"
   ]
  },
  {
   "cell_type": "code",
   "execution_count": null,
   "id": "fd56e5e8",
   "metadata": {},
   "outputs": [],
   "source": [
    "# MAE (Mean Absolute Error) 절대값으로 만드는 방식\n",
    "# 실제 값과 예측 값 차이의 절대값들의 평균\n",
    "# MAE = 10+ 13+ 9+ 19+ 13 / 5 = 12.8\n",
    "\n",
    "# MSE (Mean Squared Error)\n",
    "# 실제 값과 예측 값 차이의 제곱한 값들의 평균\n",
    "# MSE = 100 + 169 + 81 + 361 + 169 / 5 = 176\n",
    "\n",
    "# RMSE (Root Mean Squared Error)\n",
    "# MSE에 루트 적용\n",
    "# SQRT 176 = 13.27\n",
    "# 0에 가까울 수록 모델이 좋음 -> 실제 값과 예측 값의 차이가 작다는 의미\n",
    "\n",
    "# R^2(R-Square)\n",
    "# 결정계수(데이터의 분산을 기반으로 한 평가 지표)\n"
   ]
  },
  {
   "cell_type": "code",
   "execution_count": null,
   "id": "bb217103",
   "metadata": {},
   "outputs": [],
   "source": [
    "# Evaluation\n",
    "# Error = 실제 값 - 예측 값 (잔차)\n",
    "# Reg =  예측 값 - 평균 값\n",
    "# Total = 실제 값 - 평균 값 (regression + error)\n",
    "\n",
    "# Stotal = Sreg + Serror (S = square)\n",
    "# SStotal = SSreg + SSerror\n",
    "\n",
    "# R^2 = 1 - SSE / SST = 1 - {(실제 값=예측값)^2의합 / (실제 값 - 평균 값)^2의 합}\n",
    "# 실제 값과 평균 값 예측 값이 가까워질 수록 -> 분자/분모가 0에 가까워짐 -> R^2 가 1에 가까울 수록 좋은 모델 / 0에 가까울 수록 나쁜 모델\n",
    "\n"
   ]
  },
  {
   "cell_type": "markdown",
   "id": "2012d69c",
   "metadata": {},
   "source": [
    "### 다양한 평가지표 (회귀모델)"
   ]
  },
  {
   "cell_type": "markdown",
   "id": "8c697943",
   "metadata": {},
   "source": [
    "1. MAE : 실제 값과 예측 값 차이의 절대 값\n",
    "2. MSE : 차이의 제곱\n",
    "3. RMSER : 차이의 제곱에 루트\n",
    "4. R^2 : 결정계수"
   ]
  },
  {
   "cell_type": "code",
   "execution_count": 23,
   "id": "a9b2642c",
   "metadata": {},
   "outputs": [
    {
     "data": {
      "text/plain": [
       "3.2253285188288023"
      ]
     },
     "execution_count": 23,
     "metadata": {},
     "output_type": "execute_result"
    }
   ],
   "source": [
    "from sklearn.metrics import mean_absolute_error\n",
    "mean_absolute_error(y_test, y_pred) # 실제 값, 예측 값 MAE"
   ]
  },
  {
   "cell_type": "code",
   "execution_count": 25,
   "id": "507717e0",
   "metadata": {},
   "outputs": [
    {
     "data": {
      "text/plain": [
       "19.900226981515015"
      ]
     },
     "execution_count": 25,
     "metadata": {},
     "output_type": "execute_result"
    }
   ],
   "source": [
    "from sklearn.metrics import mean_squared_error\n",
    "mean_squared_error(y_test, y_pred)  #MSE"
   ]
  },
  {
   "cell_type": "code",
   "execution_count": 27,
   "id": "be5e163b",
   "metadata": {},
   "outputs": [
    {
     "data": {
      "text/plain": [
       "4.460967045553578"
      ]
     },
     "execution_count": 27,
     "metadata": {},
     "output_type": "execute_result"
    }
   ],
   "source": [
    "from sklearn.metrics import mean_squared_error\n",
    "mean_squared_error(y_test, y_pred, squared=False) # RMSE"
   ]
  },
  {
   "cell_type": "code",
   "execution_count": 28,
   "id": "4dfee7f3",
   "metadata": {},
   "outputs": [
    {
     "data": {
      "text/plain": [
       "0.9859956178877445"
      ]
     },
     "execution_count": 28,
     "metadata": {},
     "output_type": "execute_result"
    }
   ],
   "source": [
    "from sklearn.metrics import r2_score\n",
    "r2_score(y_test, y_pred) # R^2 결정계수"
   ]
  }
 ],
 "metadata": {
  "kernelspec": {
   "display_name": "Python 3 (ipykernel)",
   "language": "python",
   "name": "python3"
  },
  "language_info": {
   "codemirror_mode": {
    "name": "ipython",
    "version": 3
   },
   "file_extension": ".py",
   "mimetype": "text/x-python",
   "name": "python",
   "nbconvert_exporter": "python",
   "pygments_lexer": "ipython3",
   "version": "3.10.9"
  }
 },
 "nbformat": 4,
 "nbformat_minor": 5
}
