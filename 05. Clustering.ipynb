{
 "cells": [
  {
   "cell_type": "markdown",
   "id": "3954a766",
   "metadata": {},
   "source": [
    "Clustering(군집화)\n",
    "유사한 특징을 가지는 데이터들을 그룹화\n",
    "예) 고객 세분화, 소셜 네트워크 분석, 기사 그룹 분류\n",
    "\n",
    "classification(분류)\n",
    "정답이 있는 데이터들을 학습 시킴\n",
    "클러스터링은 정답을 모르는 상태에서 비슷한 특성을 갖고 있는 데이터끼리 묶어줌"
   ]
  },
  {
   "cell_type": "markdown",
   "id": "0d9e9c9c",
   "metadata": {},
   "source": [
    "## K-means\n",
    "### 데이터를 k개의 클러스터(그룹)로 군집화하는 알고리즘, 각 데이터로부터 이들이 속한 클러스터의 중심점까지의 평균거리를 계산"
   ]
  },
  {
   "cell_type": "markdown",
   "id": "1dbf8e1c",
   "metadata": {},
   "source": [
    "1. K 값 설정 (K=2,3,4,5......)\n",
    "2. 지정된 K 개 만큼의 랜덤 좌표 설정(각 클러스터의 최초 중심점(CENTEROID))\n",
    "3. 모든 데이터로부터 가장 가까운 중심점 선택\n",
    "4. 데이터들의 평균 중심으로 중심점 이동\n",
    "5. 중심점이 더 이상 이동되지 않을 때까지 반복\n",
    "\n",
    "* RANDOM INITIALIZATION TRAP\n",
    "2번 단계에서 최초의 중심점이 랜덤으로 생성되다보니 발생하는 문제 -> 클러스터가 잘못된다거나 하는 문제 발생\n",
    "-> K-Means++ \n",
    "1. 데이터 중에서 랜덤으로 1개를 중심점으로 선택 \n",
    "2. 나머지 데이터로부터 중심점까지의 거리 계산\n",
    "3. 중심점과 가장 먼 지점의 데이터를 다음 중심점으로 선택\n",
    "4. 중심점이 K개가 될 때까지 반복\n",
    "5. K-Means 전통적인 방식으로 진행"
   ]
  },
  {
   "cell_type": "markdown",
   "id": "0fcc0975",
   "metadata": {},
   "source": [
    "Elbow Method\n",
    "최적의 K를 판단하는 방법\n",
    "X : K의 개수\n",
    "Y : 중심점까지의 평균거리\n",
    "\n",
    "1. K변화에 따른 중심점까지의 평균 거리 비교\n",
    "2. 경사가 완만해지는 지점의 K 선정\n",
    "\n"
   ]
  },
  {
   "cell_type": "markdown",
   "id": "d59858ca",
   "metadata": {},
   "source": [
    "유사도\n",
    "\n",
    "Euclidian Distance 유클리드 거리 -> 거리를 잴 때 직선으로 잰다고 생각 -> x1,y1 / x2,y2 -> x2-x1 / y2-y1 -> d = sqrt((x2-x1)^2+(y2-y1)^2)\n",
    "\n",
    "Manhattan Distance  -> 유클리드 처럼 직선으로 못 감 -> 구획이 있다고 생각 -> abs(x2-x1 +y2-y1) = d\n",
    "\n",
    "Cosine Similarity -> 데이터 간의 거리가 아닌 각도를 봄 -> 각도가 작을수록 유사도가 높음\n",
    "cos 0 = 1\n",
    "cos 30 = sqrt(3)/2\n",
    "cos60 = 1/2\n",
    "cos90 = 0\n",
    "cos 0 에 가까울 수록 -> 각도가 작을수록 유사도가 높음 (1에 가까움)\n",
    "\n"
   ]
  }
 ],
 "metadata": {
  "kernelspec": {
   "display_name": "Python 3 (ipykernel)",
   "language": "python",
   "name": "python3"
  },
  "language_info": {
   "codemirror_mode": {
    "name": "ipython",
    "version": 3
   },
   "file_extension": ".py",
   "mimetype": "text/x-python",
   "name": "python",
   "nbconvert_exporter": "python",
   "pygments_lexer": "ipython3",
   "version": "3.10.9"
  }
 },
 "nbformat": 4,
 "nbformat_minor": 5
}
